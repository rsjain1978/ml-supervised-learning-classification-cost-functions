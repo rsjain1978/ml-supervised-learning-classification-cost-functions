{
 "cells": [
  {
   "cell_type": "code",
   "execution_count": 47,
   "metadata": {},
   "outputs": [
    {
     "name": "stdout",
     "output_type": "stream",
     "text": [
      "cost is [0.63995311] thetas are [[-1.88942057 -1.19161651  0.05881834  0.05881834]]\n",
      "Probablity of Y being 1 for given test X and parameterised by Theta is [[0.60427825]] and its class is 1\n"
     ]
    }
   ],
   "source": [
    "import pandas as pd\n",
    "import numpy as np\n",
    "\n",
    "def gradient_descent (X,Y,thetas):\n",
    "    \n",
    "    iterations = 10000\n",
    "    learning_factor=0.002\n",
    "    n = Y.size\n",
    "    \n",
    "    i=0\n",
    "    while (i<iterations):\n",
    "        \n",
    "        #find predicted value of Y\n",
    "        y_predicted = np.dot(X,thetas)\n",
    "        \n",
    "        #find hTheta as logistic function of y_predicted\n",
    "        hTheta = 1/(1+np.exp(-y_predicted))\n",
    "        \n",
    "        #calculate cost/loss function\n",
    "        cost = -1/n*(sum(Y*np.log(hTheta)+(1-Y)*(np.log(1-hTheta))))\n",
    "        \n",
    "        #calculate gradient on partial differential of cost for all thetas\n",
    "        dTheta = 1/n*(sum((hTheta-Y)*X))\n",
    "        dTheta = dTheta.reshape(4,1)\n",
    "        \n",
    "        #apply gradient descent and recalculate thetas\n",
    "        thetas = thetas - learning_factor*dTheta\n",
    "        \n",
    "        i=i+1\n",
    "        \n",
    "    print ('cost is {} thetas are {}'.format(cost, thetas.T))\n",
    "    \n",
    "    return thetas\n",
    "\n",
    "#initialize vector X which has 3 features\n",
    "x1=(1,2,3,4,5,6,7,8,9,10)\n",
    "x2=(11,22,33,44,55,66,77,88,99,100)\n",
    "x3=(5,6,9,12,45,77,88,99,11,12)\n",
    "xlist = list (zip(x1,x2,x2))\n",
    "df = pd.DataFrame(xlist)\n",
    "X = df.values\n",
    "\n",
    "#add a ones column for the intercept co-effecient and add that column to X\n",
    "ones = np.ones((10,1),dtype=int)\n",
    "X=np.concatenate((ones,X),axis=1)\n",
    "\n",
    "#initialize vector Y where y=(0,1) for different values of X vector\n",
    "y1=(0,0,0,0,1,1,1,1,1,0)\n",
    "Y=np.array(y1)\n",
    "Y=Y.reshape((10,1))\n",
    "\n",
    "#initialize thetas vector which would hold the co-effecients \n",
    "thetas = np.zeros((4,1),dtype=int)\n",
    "\n",
    "thetas = gradient_descent(X,Y,thetas)\n",
    "\n",
    "#predict the probality of Y=1 for given X parameterixed by Theta\n",
    "testX=np.array([1,8,88,99])\n",
    "testX=testX.reshape(1,4)\n",
    "probality=1/(1+np.exp(np.dot(testX,thetas)))\n",
    "predicted = 0\n",
    "if (probality>=0.5):\n",
    "    predicted = 1\n",
    "print ('Probablity of Y being 1 for given test X and parameterised by Theta is {} and its class is {}'.format(probality,predicted))"
   ]
  },
  {
   "cell_type": "code",
   "execution_count": null,
   "metadata": {},
   "outputs": [],
   "source": []
  }
 ],
 "metadata": {
  "kernelspec": {
   "display_name": "Python 3",
   "language": "python",
   "name": "python3"
  },
  "language_info": {
   "codemirror_mode": {
    "name": "ipython",
    "version": 3
   },
   "file_extension": ".py",
   "mimetype": "text/x-python",
   "name": "python",
   "nbconvert_exporter": "python",
   "pygments_lexer": "ipython3",
   "version": "3.7.0"
  }
 },
 "nbformat": 4,
 "nbformat_minor": 2
}
